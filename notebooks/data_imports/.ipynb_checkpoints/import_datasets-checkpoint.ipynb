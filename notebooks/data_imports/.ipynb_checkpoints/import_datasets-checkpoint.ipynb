{
 "cells": [
  {
   "cell_type": "markdown",
   "metadata": {},
   "source": [
    "# Import Libraries"
   ]
  },
  {
   "cell_type": "code",
   "execution_count": 10,
   "metadata": {},
   "outputs": [],
   "source": [
    "import pyreadr\n",
    "import pickle\n",
    "import os\n",
    "from sklearn.feature_selection import VarianceThreshold\n",
    "import numpy as np\n",
    "from random import sample\n",
    "import pandas as pd\n",
    "from multiomics_benchmark import helper_functions\n",
    "from collections import defaultdict\n",
    "import random"
   ]
  },
  {
   "cell_type": "markdown",
   "metadata": {},
   "source": [
    "# Import Pregnancy datasets"
   ]
  },
  {
   "cell_type": "code",
   "execution_count": 11,
   "metadata": {},
   "outputs": [],
   "source": [
    "files_path = '/home/mxenoc/workspace/multiomics-benchmark/data/RData/'"
   ]
  },
  {
   "cell_type": "code",
   "execution_count": 4,
   "metadata": {},
   "outputs": [],
   "source": [
    "#Choose omics\n",
    "dataset = 'pregnancy'\n",
    "\n",
    "#Import your data\n",
    "DF = pyreadr.read_r(files_path+dataset+'/'+dataset+'.RData')\n",
    "DF = DF[\"DF\"].dropna()\n",
    "\n",
    "#Get the groups for the cross-validation\n",
    "groups = DF[\"patientID\"]\n",
    "\n",
    "omic_names = ['rna', 'plasma_l', 'serum_l', 'microb', 'immune', 'metabol', 'plasma_s']\n",
    "    \n",
    "#Drop columns\n",
    "DF = DF[DF.columns.drop(list(DF.filter(regex='patient')))]\n",
    "DF = DF[DF.columns.drop(list(DF.filter(regex='trimester')))]\n",
    "\n",
    "#Remove columns with 0 variance\n",
    "selector = VarianceThreshold()\n",
    "select_fit = selector.fit(DF)\n",
    "DF = DF.loc[:, select_fit.get_support()]\n",
    "\n",
    "responses = helper_functions.sample_features(DF, omic_names, 10)\n",
    "\n",
    "helper_functions.pickle_dataset(files_path+dataset, DF, groups, responses)"
   ]
  },
  {
   "cell_type": "code",
   "execution_count": 5,
   "metadata": {},
   "outputs": [],
   "source": [
    "#Choose PreE\n",
    "dataset = 'pree'\n",
    "\n",
    "#Import your data\n",
    "DF = pyreadr.read_r(files_path+dataset+'/'+dataset+'.RData')\n",
    "DF = DF[\"all_data\"].dropna()\n",
    "\n",
    "#Get the groups for the cross-validation\n",
    "groups = DF['Patients.x'].astype(str).str[0:6]\n",
    "\n",
    "omic_names = ['rna', 'lipid', 'plasma', 'urine', 'somalog', 'microb']\n",
    "\n",
    "#Drop columns\n",
    "DF = DF[DF.columns.drop(list(DF.filter(regex='ID')))]\n",
    "DF = DF[DF.columns.drop(list(DF.filter(regex='Patient')))]\n",
    "DF = DF[DF.columns.drop(list(DF.filter(regex='ga')))]\n",
    "\n",
    "#Remove columns with 0 variance\n",
    "selector = VarianceThreshold()\n",
    "select_fit = selector.fit(DF)\n",
    "DF = DF.loc[:, select_fit.get_support()]\n",
    "\n",
    "responses = helper_functions.sample_features(DF, omic_names, 10)\n",
    "\n",
    "helper_functions.pickle_dataset(files_path+dataset, DF, groups, responses)"
   ]
  },
  {
   "cell_type": "code",
   "execution_count": null,
   "metadata": {},
   "outputs": [],
   "source": [
    "#Choose breast, colorectal, head_neck, kidney_renal, lung, pan_kidney, stomach_esophageal, thyroid, lung_squamous\n",
    "dataset = 'stomach_esophageal'\n",
    "\n",
    "#Import your data\n",
    "DF = pyreadr.read_r(files_path+dataset+'/'+dataset+'.RData')\n",
    "DF = DF[\"all\"].dropna()\n",
    "\n",
    "#Get the groups for the cross-validation\n",
    "groups = np.tile(1, DF.shape[0])\n",
    "\n",
    "omic_names = [\"Meth450_Gene\", \"miRNA_HiSeq_Gene\", \"RNA_HiSeq_Gene\", \"RPPA_Gene\", \"SCNV_Log_Gene\"]\n",
    "\n",
    "#Drop columns\n",
    "DF = DF[DF.columns.drop(list(DF.filter(regex='Patients')))]\n",
    "\n",
    "#Remove columns with 0 variance\n",
    "selector = VarianceThreshold()\n",
    "select_fit = selector.fit(DF)\n",
    "DF = DF.loc[:, select_fit.get_support()]\n",
    "\n",
    "responses = helper_functions.sample_features(DF, omic_names, 10)\n",
    "\n",
    "helper_functions.pickle_dataset(files_path+dataset, DF, groups, responses)"
   ]
  },
  {
   "cell_type": "code",
   "execution_count": 7,
   "metadata": {},
   "outputs": [],
   "source": [
    "#Choose glioma, brain\n",
    "dataset = 'glioma'\n",
    "\n",
    "#Import your data\n",
    "DF = pyreadr.read_r(files_path+dataset+'/'+dataset+'.RData')\n",
    "DF = DF[\"all\"].dropna()\n",
    "\n",
    "#Get the groups for the cross-validation\n",
    "groups = np.tile(1, DF.shape[0])\n",
    "\n",
    "omic_names = [\"Meth450_Gene\", \"miRNA_Gene\", \"RNA_HiSeq_Gene\", \"RPPA_Gene\", \"SCNV_Log_Gene\"]\n",
    "\n",
    "#Drop columns\n",
    "DF = DF[DF.columns.drop(list(DF.filter(regex='Patients')))]\n",
    "\n",
    "#Remove columns with 0 variance\n",
    "selector = VarianceThreshold()\n",
    "select_fit = selector.fit(DF)\n",
    "DF = DF.loc[:, select_fit.get_support()]\n",
    "\n",
    "responses = helper_functions.sample_features(DF, omic_names, 10)\n",
    "\n",
    "helper_functions.pickle_dataset(files_path+dataset, DF, groups, responses)"
   ]
  },
  {
   "cell_type": "code",
   "execution_count": 13,
   "metadata": {},
   "outputs": [],
   "source": [
    "#Choose ovarian\n",
    "dataset = 'ovarian'\n",
    "\n",
    "#Import your data\n",
    "DF = pyreadr.read_r(files_path+dataset+'/'+dataset+'.RData')\n",
    "DF = DF[\"all\"].dropna()\n",
    "\n",
    "#Get the groups for the cross-validation\n",
    "groups = np.tile(1, DF.shape[0])\n",
    "\n",
    "omic_names = [\"Meth27_Gene\", \"miRNA_Gene\", \"RNA_GA_Gene\", \"RPPA_Gene\", \"SCNV_Log_Gene\"]\n",
    "\n",
    "#Drop columns\n",
    "DF = DF[DF.columns.drop(list(DF.filter(regex='Patients')))]\n",
    "\n",
    "#Remove columns with 0 variance\n",
    "selector = VarianceThreshold()\n",
    "select_fit = selector.fit(DF)\n",
    "DF = DF.loc[:, select_fit.get_support()]\n",
    "\n",
    "responses = helper_functions.sample_features(DF, omic_names, 10)\n",
    "\n",
    "helper_functions.pickle_dataset(files_path+dataset, DF, groups, responses)"
   ]
  },
  {
   "cell_type": "code",
   "execution_count": 14,
   "metadata": {},
   "outputs": [],
   "source": [
    "#Choose uterine\n",
    "dataset = 'uterine'\n",
    "\n",
    "#Import your data\n",
    "DF = pyreadr.read_r(files_path+dataset+'/'+dataset+'.RData')\n",
    "DF = DF[\"all\"].dropna()\n",
    "\n",
    "#Get the groups for the cross-validation\n",
    "groups = np.tile(1, DF.shape[0])\n",
    "\n",
    "omic_names = [\"Meth450_Gene\", \"miRNA_HiSeq_Gene\", \"RPPA_Gene\", \"SCNV_Log_Gene\"]\n",
    "\n",
    "#Drop columns\n",
    "DF = DF[DF.columns.drop(list(DF.filter(regex='Patients')))]\n",
    "\n",
    "#Remove columns with 0 variance\n",
    "selector = VarianceThreshold()\n",
    "select_fit = selector.fit(DF)\n",
    "DF = DF.loc[:, select_fit.get_support()]\n",
    "\n",
    "responses = helper_functions.sample_features(DF, omic_names, 10)\n",
    "\n",
    "helper_functions.pickle_dataset(files_path+dataset, DF, groups, responses)"
   ]
  },
  {
   "cell_type": "code",
   "execution_count": null,
   "metadata": {},
   "outputs": [],
   "source": [
    "#Choose breast_TM\n",
    "dataset = 'breast_TM'\n",
    "\n",
    "#Import your data\n",
    "DF = pyreadr.read_r(files_path+dataset+'/'+dataset+'.RData')\n",
    "DF = DF[\"all\"].dropna()\n",
    "\n",
    "#Get the groups for the cross-validation\n",
    "groups = np.tile(1, DF.shape[0])\n",
    "\n",
    "omic_names = [\"Meth450_Gene\", \"Meth450_site\", \"miRNA_HiSeq_Gene\", \"RNA_HiSeq_Gene\", \n",
    "              \"RPPA_Analyte\", \"RPPA_Gene\", \"SCNV_Focal_Log\", \"SCNV_Gene_Log\"]\n",
    "\n",
    "#Drop columns\n",
    "DF = DF[DF.columns.drop(list(DF.filter(regex='Patients')))]\n",
    "\n",
    "DF = DF.apply(pd.to_numeric, errors='coerce')\n",
    "DF = DF.dropna(axis='columns')\n",
    "\n",
    "#Remove columns with 0 variance\n",
    "selector = VarianceThreshold()\n",
    "select_fit = selector.fit(DF)\n",
    "DF = DF.loc[:, select_fit.get_support()]\n",
    "\n",
    "responses = helper_functions.sample_features(DF, omic_names, 10)\n",
    "\n",
    "helper_functions.pickle_dataset(files_path+dataset, DF, groups, responses)"
   ]
  },
  {
   "cell_type": "markdown",
   "metadata": {},
   "source": [
    "# Pick the size (if you have to)"
   ]
  },
  {
   "cell_type": "code",
   "execution_count": 16,
   "metadata": {},
   "outputs": [],
   "source": [
    "dataset = 'breast_TM'"
   ]
  },
  {
   "cell_type": "code",
   "execution_count": 17,
   "metadata": {},
   "outputs": [],
   "source": [
    "options = defaultdict(lambda: [\"Meth450_Gene\", \"miRNA_HiSeq_Gene\", \"RNA_HiSeq_Gene\", \"RPPA_Gene\", \"SCNV_Log_Gene\"], \n",
    "                      {'pregnancy': ['rna', 'plasma_l', 'serum_l', 'microb', 'immune', 'metabol', 'plasma_s'],\n",
    "                       'brain':['Meth450_Gene', 'miRNA_Gene', 'RNA_HiSeq_Gene', 'RPPA_Gene', 'SCNV_Log_Gene'],\n",
    "                       'pree': ['rna', 'lipid', 'plasma', 'urine', 'somalog', 'microb'],\n",
    "                       'glioma': [\"Meth450_Gene\", \"miRNA_Gene\", \"RNA_HiSeq_Gene\", \"RPPA_Gene\", \"SCNV_Log_Gene\"],\n",
    "                       'ovarian': [\"Meth27_Gene\", \"miRNA_Gene\", \"RNA_GA_Gene\", \"RPPA_Gene\", \"SCNV_Log_Gene\"],\n",
    "                       'uterine':[\"Meth450_Gene\", \"miRNA_HiSeq_Gene\", \"RPPA_Gene\", \"SCNV_Log_Gene\"]\n",
    "                      })\n",
    "\n",
    "omic_names = options[dataset]"
   ]
  },
  {
   "cell_type": "code",
   "execution_count": 18,
   "metadata": {},
   "outputs": [
    {
     "ename": "FileNotFoundError",
     "evalue": "[Errno 2] No such file or directory: 'DF.pkl'",
     "output_type": "error",
     "traceback": [
      "\u001b[0;31m---------------------------------------------------------------------------\u001b[0m",
      "\u001b[0;31mFileNotFoundError\u001b[0m                         Traceback (most recent call last)",
      "\u001b[0;32m<ipython-input-18-55ecb46c56f5>\u001b[0m in \u001b[0;36m<module>\u001b[0;34m\u001b[0m\n\u001b[1;32m      1\u001b[0m \u001b[0mos\u001b[0m\u001b[0;34m.\u001b[0m\u001b[0mchdir\u001b[0m\u001b[0;34m(\u001b[0m\u001b[0;34m'/home/mxenoc/workspace/multiomics-benchmark/data/RData/'\u001b[0m\u001b[0;34m+\u001b[0m\u001b[0mdataset\u001b[0m\u001b[0;34m)\u001b[0m\u001b[0;34m\u001b[0m\u001b[0;34m\u001b[0m\u001b[0m\n\u001b[1;32m      2\u001b[0m \u001b[0;34m\u001b[0m\u001b[0m\n\u001b[0;32m----> 3\u001b[0;31m \u001b[0;32mwith\u001b[0m \u001b[0mopen\u001b[0m\u001b[0;34m(\u001b[0m\u001b[0;34m'DF.pkl'\u001b[0m\u001b[0;34m,\u001b[0m \u001b[0;34m'rb'\u001b[0m\u001b[0;34m)\u001b[0m \u001b[0;32mas\u001b[0m \u001b[0mf\u001b[0m\u001b[0;34m:\u001b[0m\u001b[0;34m\u001b[0m\u001b[0;34m\u001b[0m\u001b[0m\n\u001b[0m\u001b[1;32m      4\u001b[0m     \u001b[0mDF\u001b[0m \u001b[0;34m=\u001b[0m \u001b[0mpickle\u001b[0m\u001b[0;34m.\u001b[0m\u001b[0mload\u001b[0m\u001b[0;34m(\u001b[0m\u001b[0mf\u001b[0m\u001b[0;34m)\u001b[0m\u001b[0;34m\u001b[0m\u001b[0;34m\u001b[0m\u001b[0m\n\u001b[1;32m      5\u001b[0m \u001b[0;34m\u001b[0m\u001b[0m\n",
      "\u001b[0;31mFileNotFoundError\u001b[0m: [Errno 2] No such file or directory: 'DF.pkl'"
     ]
    }
   ],
   "source": [
    "os.chdir('/home/mxenoc/workspace/multiomics-benchmark/data/RData/'+dataset)\n",
    "\n",
    "with open('DF.pkl', 'rb') as f:\n",
    "    DF = pickle.load(f)\n",
    "    \n",
    "with open('groups.pkl', 'rb') as f:\n",
    "    patient_groups = pickle.load(f)\n",
    "    \n",
    "with open('responses.pkl', 'rb') as f:\n",
    "    responses = pickle.load(f)"
   ]
  },
  {
   "cell_type": "code",
   "execution_count": 286,
   "metadata": {},
   "outputs": [],
   "source": [
    "#Drop a few omics\n",
    "omic_names_list = []\n",
    "omics = []\n",
    "\n",
    "for i in [0,1,3]:\n",
    "    \n",
    "    DF_breast = DF.copy()\n",
    "    omic_names_breast = omic_names.copy()\n",
    "\n",
    "    include_omics = omic_names_breast[i]\n",
    "    feature_names = DF_breast.columns[DF_breast.columns.str.startswith(include_omics)]\n",
    "\n",
    "    DF_breast = DF_breast[feature_names]\n",
    "\n",
    "    omic_names_list.append(include_omics)\n",
    "\n",
    "    #Number of columns for testing\n",
    "    features = 50\n",
    "    col_index = sample(range(0, DF_breast.shape[1]), features)\n",
    "\n",
    "    #Reshape the dataset\n",
    "    omics.append(DF_breast.iloc[:, col_index])"
   ]
  },
  {
   "cell_type": "code",
   "execution_count": 287,
   "metadata": {},
   "outputs": [],
   "source": [
    "DF = pd.concat(omics, axis =1 )\n",
    "groups = np.tile(1, DF.shape[0])"
   ]
  },
  {
   "cell_type": "code",
   "execution_count": 289,
   "metadata": {},
   "outputs": [],
   "source": [
    "weights_vector = np.concatenate([[0]*50, [5]*10, [1,2,3,4,5], [0]*20, [0.5]*10, [0]*20, np.random.randint(low=0, high=10, size=(8,)), [1,2,3], [0]*20, [5]*4], axis = 0 )"
   ]
  },
  {
   "cell_type": "code",
   "execution_count": 319,
   "metadata": {},
   "outputs": [],
   "source": [
    "y1 = np.matmul(DF.values.astype('float'), weights_vector)\n",
    "y2 = y1**2\n",
    "responses = np.array([y1,y2]).T"
   ]
  },
  {
   "cell_type": "code",
   "execution_count": 320,
   "metadata": {},
   "outputs": [],
   "source": [
    "dataset = 'breast_S'"
   ]
  },
  {
   "cell_type": "code",
   "execution_count": 321,
   "metadata": {},
   "outputs": [],
   "source": [
    "helper_functions.pickle_dataset(files_path+dataset, DF, groups, responses)"
   ]
  },
  {
   "cell_type": "code",
   "execution_count": null,
   "metadata": {},
   "outputs": [],
   "source": []
  }
 ],
 "metadata": {
  "kernelspec": {
   "display_name": "Python 3",
   "language": "python",
   "name": "python3"
  },
  "language_info": {
   "codemirror_mode": {
    "name": "ipython",
    "version": 3
   },
   "file_extension": ".py",
   "mimetype": "text/x-python",
   "name": "python",
   "nbconvert_exporter": "python",
   "pygments_lexer": "ipython3",
   "version": "3.7.4"
  }
 },
 "nbformat": 4,
 "nbformat_minor": 4
}
