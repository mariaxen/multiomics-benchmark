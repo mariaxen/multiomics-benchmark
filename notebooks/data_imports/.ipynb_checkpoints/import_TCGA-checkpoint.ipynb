{
 "cells": [
  {
   "cell_type": "code",
   "execution_count": 29,
   "metadata": {},
   "outputs": [],
   "source": [
    "library(dplyr)\n",
    "\n",
    "#Choose the type of TCGA dataset\n",
    "cancer_type = \"stomach_esophageal\"\n",
    "\n",
    "#You need to save all your datasets in this folder \n",
    "path <- paste0(\"/home/mxenoc/workspace/multiomics-benchmark/data/RData/\", cancer_type, \"/files/\")\n",
    "\n",
    "setwd(path)"
   ]
  },
  {
   "cell_type": "code",
   "execution_count": 30,
   "metadata": {},
   "outputs": [],
   "source": [
    "dataset_names <- list.files(path)\n",
    "dataset_better_names <- tools::file_path_sans_ext(dataset_names)\n",
    "\n",
    "datasets = list()\n",
    "\n",
    "#Prepare your dataset\n",
    "for (i in 1:length(dataset_names)){\n",
    "  \n",
    "  dataset <- read.table(dataset_names[i], fill = TRUE)\n",
    "  \n",
    "  #Replace empty with NA \n",
    "  dataset <- mutate_all(dataset, list(~na_if(.,\"\")))\n",
    "    \n",
    "  #Omit NAs\n",
    "  dataset <- na.omit(dataset)\n",
    "  \n",
    "  dataset <- dataset[!duplicated(dataset[,1]),]\n",
    "  rownames(dataset) <- as.character(unlist(dataset[,1]))\n",
    "  dataset <- dataset[,-1]\n",
    "  \n",
    "  dataset <- data.frame(t(dataset))\n",
    "  \n",
    "  colnames(dataset) <- c(\"Patients\", paste0(dataset_better_names[i], 1:(ncol(dataset)-1)))\n",
    "\n",
    "  datasets[[i]] <- dataset\n",
    "}\n",
    "\n",
    "names(datasets) <- dataset_better_names\n",
    "\n",
    "#Merge them together \n",
    "all = Reduce(function(x, y) merge(x, y, by = \"Patients\", all = FALSE), datasets)\n",
    "\n",
    "save(all, file = paste0('/home/mxenoc/workspace/multiomics-benchmark/data/RData/', cancer_type, \"/\", cancer_type, \".RData\"))"
   ]
  },
  {
   "cell_type": "code",
   "execution_count": null,
   "metadata": {},
   "outputs": [],
   "source": []
  }
 ],
 "metadata": {
  "kernelspec": {
   "display_name": "R",
   "language": "R",
   "name": "ir"
  },
  "language_info": {
   "codemirror_mode": "r",
   "file_extension": ".r",
   "mimetype": "text/x-r-source",
   "name": "R",
   "pygments_lexer": "r",
   "version": "3.6.1"
  }
 },
 "nbformat": 4,
 "nbformat_minor": 4
}
