{
 "cells": [
  {
   "cell_type": "code",
   "execution_count": 8,
   "metadata": {},
   "outputs": [],
   "source": [
    "#install.packages('stringr')"
   ]
  },
  {
   "cell_type": "code",
   "execution_count": 9,
   "metadata": {},
   "outputs": [],
   "source": [
    "#Set your working directory\n",
    "setwd(\"/home/mxenoc/workspace/multiomics-benchmark/data/RData\")\n",
    "\n",
    "#Import libraries\n",
    "library(data.table)\n",
    "library(stringr)\n",
    "library(dplyr)\n",
    "\n",
    "#Load your data\n",
    "load('PreE_Omics_Data_Final.rda')"
   ]
  },
  {
   "cell_type": "code",
   "execution_count": 10,
   "metadata": {},
   "outputs": [],
   "source": [
    "#These are a bit different for each omic\n",
    "#Give the columns sensible names and get the sample IDs\n",
    "rn = as.data.frame(t(cfrna_dataFINAL[,3:ncol(cfrna_dataFINAL)]))\n",
    "colnames(rn) = c(paste0('rna', 1:ncol(rn)))\n",
    "rn$IDs = rownames(rn)\n",
    "\n",
    "lipid = t(lipidome_dataFINAL)\n",
    "colnames(lipid) = lipid[1,]\n",
    "lipid = as.data.frame(lipid[-1,])\n",
    "colnames(lipid) = c(paste0('lipid', 1:ncol(lipid)))\n",
    "lipid$IDs = rownames(lipid)\n",
    "\n",
    "metabolome_plasma_dataFINAL = metabolome_plasma_dataFINAL[ , \n",
    "                              grepl( \"X\" , names(metabolome_plasma_dataFINAL) ) ]\n",
    "plasma = as.data.frame(t(metabolome_plasma_dataFINAL))\n",
    "colnames(plasma) = c(paste0('plasma', 1:ncol(plasma)))\n",
    "plasma$IDs = rownames(plasma)\n",
    "\n",
    "metabolome_urine_dataFINAL = metabolome_urine_dataFINAL[ , \n",
    "                              grepl( \"X\" , names(metabolome_urine_dataFINAL) ) ]\n",
    "urine = as.data.frame(t(metabolome_urine_dataFINAL))\n",
    "colnames(urine) = c(paste0('urine', 1:ncol(urine)))\n",
    "urine$IDs = rownames(urine)\n",
    "\n",
    "somalog = as.data.frame(somalogic_dataFINAL)\n",
    "somalog = somalog[,-c(2:5)]\n",
    "colnames(somalog) = c(paste0('somalog', 1:ncol(somalog)))\n",
    "colnames(somalog)[1] = \"IDs\"\n",
    "somalog$IDs = paste0(\"X\", somalog$IDs) \n",
    "\n",
    "microb = microbiome_dataFINAL\n",
    "microb$sample_id = paste0(\"X\", str_extract(microb$sample_id, \"[^.]+\"))\n",
    "microb = microb[,-c(2:32)]\n",
    "colnames(microb) = c(paste0('microb', 1:ncol(microb)))\n",
    "colnames(microb)[1] = \"IDs\""
   ]
  },
  {
   "cell_type": "code",
   "execution_count": 11,
   "metadata": {},
   "outputs": [],
   "source": [
    "#Get your datasets, their old names and the new names you will assign to them\n",
    "omics <- list(rn, lipid, plasma, urine, somalog, microb)\n",
    "omic_names <- c('rn', 'lipid', 'plasma', 'urine', 'somalog', 'microb')\n",
    "new_omic_names <- c('rna', 'lipidome', 'metabolome_plasma', 'metabolome_urine', \n",
    "                    'somalogic', 'microbiome')\n",
    "\n",
    "#Extract patients, ga, and add a column with patient number and ga\n",
    "for (i in 1:length(omics)){\n",
    "  omics[[i]]$Patients <- substr(omics[[i]]$IDs, 1, 6)\n",
    "  omics[[i]]$ga <- as.numeric(substr(omics[[i]]$IDs, 9, 10))\n",
    "  omics[[i]]$Patient_ga <- paste0(substr(omics[[i]]$IDs, 0, 6), omics[[i]]$ga)\n",
    "}"
   ]
  },
  {
   "cell_type": "code",
   "execution_count": 12,
   "metadata": {},
   "outputs": [
    {
     "name": "stderr",
     "output_type": "stream",
     "text": [
      "Warning message in merge.data.frame(x, y, by = \"Patient_ga\", all = FALSE):\n",
      "“column names ‘IDs.x’, ‘Patients.x’, ‘ga.x’, ‘IDs.y’, ‘Patients.y’, ‘ga.y’ are duplicated in the result”\n",
      "Warning message in merge.data.frame(x, y, by = \"Patient_ga\", all = FALSE):\n",
      "“column names ‘IDs.x’, ‘Patients.x’, ‘ga.x’, ‘IDs.y’, ‘Patients.y’, ‘ga.y’ are duplicated in the result”\n",
      "Warning message in merge.data.frame(x, y, by = \"Patient_ga\", all = FALSE):\n",
      "“column names ‘IDs.x’, ‘Patients.x’, ‘ga.x’, ‘IDs.y’, ‘Patients.y’, ‘ga.y’, ‘IDs.x’, ‘Patients.x’, ‘ga.x’, ‘IDs.y’, ‘Patients.y’, ‘ga.y’ are duplicated in the result”\n"
     ]
    }
   ],
   "source": [
    "#Give some leeway, +-1 week, for matching samples taken at different times\n",
    "for (i in 1:length(omics)){\n",
    "  \n",
    "  omic_set_m1 <- omics[[i]]\n",
    "  omic_set_m1$Patient_ga <- paste0(omics[[i]]$Patients, omics[[i]]$ga-1)\n",
    "  \n",
    "  omic_set_p1 <- omics[[i]]\n",
    "  omic_set_p1$Patient_ga <- paste0(omics[[i]]$Patients, omics[[i]]$ga+1)\n",
    "  \n",
    "  all_omic_sets = do.call(\"rbind\", list(omics[[i]], omic_set_m1, omic_set_p1))\n",
    "  \n",
    "  #Assign the new names \n",
    "  assign(new_omic_names[[i]], all_omic_sets)\n",
    "}\n",
    "\n",
    "#Merge all datasets \n",
    "all = Reduce(function(x, y) merge(x, y, by = \"Patient_ga\",all = FALSE), \n",
    "             list(rna, lipidome, metabolome_plasma, metabolome_urine, \n",
    "                  somalogic, microbiome))"
   ]
  },
  {
   "cell_type": "code",
   "execution_count": 13,
   "metadata": {},
   "outputs": [],
   "source": [
    "microbiome_dataFINAL$Patient <- paste0('X', microbiome_dataFINAL$individual)\n",
    "all$Patient <- all$Patients.x\n",
    "\n",
    "#Get rid of the columns you messed up earlier since they don't mean much anymore\n",
    "columns.to.remove <- paste(c('IDs', 'ga'), collapse = '|')\n",
    "all_data <- all[!grepl(columns.to.remove, colnames(all))]\n",
    "\n",
    "#And now get rid of all the duplicated rows you created \n",
    "all_data <- unique(all_data)\n",
    "\n",
    "save(all_data, file = \"PreE.RData\")"
   ]
  },
  {
   "cell_type": "code",
   "execution_count": null,
   "metadata": {},
   "outputs": [],
   "source": []
  }
 ],
 "metadata": {
  "kernelspec": {
   "display_name": "R",
   "language": "R",
   "name": "ir"
  },
  "language_info": {
   "codemirror_mode": "r",
   "file_extension": ".r",
   "mimetype": "text/x-r-source",
   "name": "R",
   "pygments_lexer": "r",
   "version": "3.6.1"
  }
 },
 "nbformat": 4,
 "nbformat_minor": 4
}
