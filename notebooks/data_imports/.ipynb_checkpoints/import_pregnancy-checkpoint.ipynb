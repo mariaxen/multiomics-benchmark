{
 "cells": [
  {
   "cell_type": "code",
   "execution_count": 3,
   "metadata": {},
   "outputs": [],
   "source": [
    "setwd(\"/home/mxenoc/workspace/multiomics-benchmark/data/RData/pregnancy\")\n",
    "library('rlist')"
   ]
  },
  {
   "cell_type": "code",
   "execution_count": 4,
   "metadata": {},
   "outputs": [],
   "source": [
    "#Import data and merge into one data frame\n",
    "#Load Data\n",
    "load('Data.Rda')\n",
    "DFraw <- InputData\n",
    "DFraw <- lapply(DFraw, as.data.frame)\n",
    "\n",
    "#Give the columns useful names to know which omic they come from\n",
    "colnames(DFraw[[1]]) <- c(paste0('rna', 1:ncol(DFraw[[1]])))\n",
    "rna <- DFraw[[1]]\n",
    "colnames(DFraw[[2]]) <- c(paste0('plasma_l', 1:ncol(DFraw[[2]])))\n",
    "plasma_l <- DFraw[[2]]\n",
    "colnames(DFraw[[3]]) <- c(paste0('serum_l', 1:ncol(DFraw[[3]])))\n",
    "serum_l <- DFraw[[3]]\n",
    "colnames(DFraw[[4]]) <- c(paste0('microb', 1:ncol(DFraw[[4]])))\n",
    "microbiome <- DFraw[[4]]\n",
    "colnames(DFraw[[5]]) <- c(paste0('immune', 1:ncol(DFraw[[5]])))\n",
    "immune <- DFraw[[5]]\n",
    "colnames(DFraw[[6]]) <- c(paste0('metabol', 1:ncol(DFraw[[6]])))\n",
    "metabolomics <- DFraw[[6]]\n",
    "colnames(DFraw[[7]]) <- c(paste0('plasma_s', 1:ncol(DFraw[[7]])))\n",
    "proteomics <- DFraw[[7]]\n",
    "\n",
    "#Column-bind the list\n",
    "DF <- list.cbind(DFraw)\n",
    "DF$patient_TR <- rownames(DF)\n",
    "\n",
    "#Create patient ID and trimester columns\n",
    "DF$patientID <- substr(rownames(DF), 1, nchar(rownames(DF))-2)\n",
    "DF$trimester <- substr(rownames(DF), nchar(rownames(DF)), nchar(rownames(DF)))\n",
    "\n",
    "save(DF, file = \"pregnancy.RData\")"
   ]
  },
  {
   "cell_type": "code",
   "execution_count": null,
   "metadata": {},
   "outputs": [],
   "source": []
  }
 ],
 "metadata": {
  "kernelspec": {
   "display_name": "R",
   "language": "R",
   "name": "ir"
  },
  "language_info": {
   "codemirror_mode": "r",
   "file_extension": ".r",
   "mimetype": "text/x-r-source",
   "name": "R",
   "pygments_lexer": "r",
   "version": "3.6.1"
  }
 },
 "nbformat": 4,
 "nbformat_minor": 4
}
