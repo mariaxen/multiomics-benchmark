{
 "cells": [
  {
   "cell_type": "code",
   "execution_count": 42,
   "metadata": {},
   "outputs": [
    {
     "name": "stdout",
     "output_type": "stream",
     "text": [
      "The autoreload extension is already loaded. To reload it, use:\n",
      "  %reload_ext autoreload\n"
     ]
    }
   ],
   "source": [
    "%load_ext autoreload\n",
    "%autoreload 2\n",
    "\n",
    "import pickle\n",
    "import seaborn as sns\n",
    "import pandas as pd\n",
    "import numpy as np\n",
    "import matplotlib.pyplot as plt\n",
    "import matplotlib.ticker as mtick\n",
    "from collections import defaultdict\n",
    "from scipy import stats\n",
    "from collections import Counter\n",
    "import networkx as nx\n",
    "from multiomics_benchmark import helper_functions"
   ]
  },
  {
   "cell_type": "code",
   "execution_count": 43,
   "metadata": {},
   "outputs": [],
   "source": [
    "np.set_printoptions(suppress=True)"
   ]
  },
  {
   "cell_type": "markdown",
   "metadata": {},
   "source": [
    "# Plot Accuracy"
   ]
  },
  {
   "cell_type": "code",
   "execution_count": 44,
   "metadata": {},
   "outputs": [],
   "source": [
    "# Define your datasets\n",
    "datasets = ['brain','breast', 'colorectal', 'glioma', 'head_neck', 'kidney_renal','lung', \n",
    "            'lung_squamous',  'omics', 'ovarian', 'pan_kidney', 'PreE', \n",
    "            'stomach_esophageal', 'thyroid', 'uterine']\n",
    "\n",
    "# Define omics names for each dataset\n",
    "options = defaultdict(lambda: [\"Methylation\", \"miRNA\", \"RNA\", \"RPPA\", \"SCNV\"], \n",
    "                      {'omics': ['cfRNA', 'proteo_lum', 'serum_lum', 'microbiome', 'CyTOF', 'metabolome', 'proteo_som'],\n",
    "                       'PreE': ['cfRNA', 'lipidome', 'metabol-plasma', 'metabol-urine', 'proteome', 'microbiome'],\n",
    "                       'glioma': [\"Methylation\", \"miRNA\", \"RNA\", \"RPPA\", \"SCNV\"],\n",
    "                       'brain': [\"Methylation\", \"miRNA\", \"RNA\", \"RPPA\", \"SCNV\"],\n",
    "                       'ovarian': [\"Methylation\", \"miRNA\", \"RNA\", \"RPPA\", \"SCNV\"],\n",
    "                       'uterine':[\"Methylation\", \"miRNA\", \"RPPA\", \"SCNV\"]\n",
    "                      })"
   ]
  },
  {
   "cell_type": "code",
   "execution_count": 45,
   "metadata": {},
   "outputs": [],
   "source": [
    "r_limit = 0.5\n",
    "r_limit_name = 'limit_{}'.format(r_limit)"
   ]
  },
  {
   "cell_type": "code",
   "execution_count": 46,
   "metadata": {},
   "outputs": [],
   "source": [
    "dataset_results = []\n",
    "\n",
    "for i in range(len(datasets)):\n",
    "    with open('/home/mxenoc/workspace/multiomics-benchmark/plots/accuracy_calculations/'+r_limit_name+'/'+datasets[i]+'.pkl', 'rb') as f:\n",
    "        dataset_results.append(pickle.load(f))\n",
    "        \n",
    "dataset_results = pd.concat(dataset_results)\n",
    "\n",
    "pivot_df_ind = dataset_results.pivot(index='dataset', columns='models', values='percentage')"
   ]
  },
  {
   "cell_type": "code",
   "execution_count": 47,
   "metadata": {},
   "outputs": [],
   "source": [
    "dataset_results = []\n",
    "\n",
    "for i in range(len(datasets)):\n",
    "    with open('/home/mxenoc/workspace/multiomics-benchmark/plots/accuracy_calculations/'+r_limit_name+'/stacked/'+datasets[i]+'.pkl', 'rb') as f:\n",
    "        dataset_results.append(pickle.load(f))\n",
    "        \n",
    "dataset_results = pd.concat(dataset_results)\n",
    "\n",
    "pivot_df_stk = dataset_results.pivot(index='dataset', columns='models', values='percentage')"
   ]
  },
  {
   "cell_type": "code",
   "execution_count": 48,
   "metadata": {},
   "outputs": [],
   "source": [
    "# If you want to combine results\n",
    "pivot_df = pd.concat([pivot_df_ind, pivot_df_stk], axis=1)"
   ]
  },
  {
   "cell_type": "markdown",
   "metadata": {},
   "source": [
    "# Individual plots"
   ]
  },
  {
   "cell_type": "code",
   "execution_count": 49,
   "metadata": {},
   "outputs": [],
   "source": [
    "cmap_greys = plt.get_cmap('Greys')\n",
    "cmap_reds = plt.get_cmap('Reds')"
   ]
  },
  {
   "cell_type": "code",
   "execution_count": 50,
   "metadata": {},
   "outputs": [],
   "source": [
    "r_p_all = []\n",
    "individual_totals = {}\n",
    "\n",
    "#for dataset in datasets:\n",
    "dataset = datasets[0]\n",
    "\n",
    "omics = options[dataset]\n",
    "n_samples = 50"
   ]
  },
  {
   "cell_type": "code",
   "execution_count": 51,
   "metadata": {},
   "outputs": [
    {
     "name": "stderr",
     "output_type": "stream",
     "text": [
      "/home/mxenoc/anaconda3/lib/python3.7/site-packages/networkx/drawing/nx_pylab.py:579: MatplotlibDeprecationWarning: \n",
      "The iterable function was deprecated in Matplotlib 3.1 and will be removed in 3.3. Use np.iterable instead.\n",
      "  if not cb.iterable(width):\n",
      "/home/mxenoc/anaconda3/lib/python3.7/site-packages/networkx/drawing/nx_pylab.py:585: MatplotlibDeprecationWarning: \n",
      "The iterable function was deprecated in Matplotlib 3.1 and will be removed in 3.3. Use np.iterable instead.\n",
      "  and cb.iterable(edge_color) \\\n",
      "/home/mxenoc/anaconda3/lib/python3.7/site-packages/networkx/drawing/nx_pylab.py:595: MatplotlibDeprecationWarning: \n",
      "The iterable function was deprecated in Matplotlib 3.1 and will be removed in 3.3. Use np.iterable instead.\n",
      "  for c in edge_color]):\n",
      "/home/mxenoc/anaconda3/lib/python3.7/site-packages/networkx/drawing/nx_pylab.py:676: MatplotlibDeprecationWarning: \n",
      "The iterable function was deprecated in Matplotlib 3.1 and will be removed in 3.3. Use np.iterable instead.\n",
      "  if cb.iterable(node_size):  # many node sizes\n"
     ]
    },
    {
     "data": {
      "image/png": "[encoded data removed]",
      "text/plain": [
       "<Figure size 288x288 with 1 Axes>"
      ]
     },
     "metadata": {},
     "output_type": "display_data"
    }
   ],
   "source": [
    "with open('/home/mxenoc/workspace/multiomics-benchmark/results/'+dataset+'/individual/Lasso.pkl', 'rb') as f:\n",
    "    mdl = pickle.load(f)\n",
    "\n",
    "r_p_list = []\n",
    "models_res = []\n",
    "res = []    \n",
    "\n",
    "r_limit = 0.5\n",
    "r_limit_name = 'limit_{}'.format(r_limit)\n",
    "\n",
    "for omic_dataset in range(len(omics)):\n",
    "    all_features = defaultdict(list)\n",
    "    for k in range(n_samples):\n",
    "        each_feature = defaultdict(list)\n",
    "        for l in range(len(omics)-1):                \n",
    "\n",
    "            x = mdl['observed_test'][omic_dataset][k]\n",
    "            y = mdl['prediction_test'][omic_dataset][k][l]\n",
    "\n",
    "            each_feature['r'].append(stats.spearmanr(x,y)[0])                \n",
    "            each_feature['p'].append(stats.spearmanr(x,y)[1])\n",
    "            each_feature['predictor'].append(omics[l])\n",
    "\n",
    "        all_features['r'].append(each_feature['r'])\n",
    "        all_features['p'].append(each_feature['p'])\n",
    "        all_features['predictor'].append(each_feature['predictor'])\n",
    "\n",
    "    r = np.hstack(all_features['r'])\n",
    "    p = np.hstack(all_features['p'])\n",
    "    predictors = np.hstack(all_features['predictor'])\n",
    "\n",
    "    r_p = pd.DataFrame({'r': r, 'p': p, 'predictor': predictors, 'target': omics[omic_dataset]})\n",
    "    r_p = r_p[(r_p['r']>r_limit) & (r_p['p']<=0.05)]\n",
    "    r_p_list.append(r_p)\n",
    "    res.append(len(r_p))\n",
    "\n",
    "test = pd.concat(r_p_list)\n",
    "test = test.drop(['r', 'p'], axis = 1)\n",
    "\n",
    "###DO NOT USE THIS FOR MULTIOMICS\n",
    "#test['predictor'] = test['predictor'].str.partition('_')[0]\n",
    "#test['target'] = test['target'].str.partition('_')[0]\n",
    "#########\n",
    "\n",
    "dataset_predictability = Counter(test['target'])\n",
    "dataset_predictability = pd.DataFrame(dataset_predictability.items())\n",
    "dataset_predictability.columns = ['features', 'group']\n",
    "\n",
    "dataset_predictors = Counter(test['predictor'])\n",
    "dataset_predictors = pd.DataFrame(dataset_predictors.items())\n",
    "dataset_predictors.columns = ['features', 'group']\n",
    "\n",
    "links = pd.DataFrame(test.groupby(test.columns.tolist(),as_index=False).size())\n",
    "links.reset_index(level=0, inplace=True)\n",
    "links.reset_index(level=0, inplace=True)\n",
    "columns_titles = [\"predictor\",\"target\", \"size\"]\n",
    "links = links.reindex(columns = columns_titles)\n",
    "links.columns = ['var1', 'var2', 'weight']\n",
    "#links.loc[-1] = ['RNA', 'RNA', 0]\n",
    "#links.loc[4] = ['lipidome', 'lipidome', 0]\n",
    "#links.loc[5] = ['microbiome', 'microbiome', 0]\n",
    "\n",
    "###DO NOT USE THIS FOR MULTIOMICS\n",
    "#links['var1'] = links['var1'].str.partition('_')[0]\n",
    "#links['var2'] = links['var2'].str.partition('_')[0]\n",
    "#######\n",
    "\n",
    "G = nx.from_pandas_edgelist(links, 'var1', 'var2', edge_attr=True, create_using=nx.DiGraph())\n",
    "\n",
    "# Edges you want to include\n",
    "threshold = -1\n",
    "\n",
    "# Edges you want to plot\n",
    "edges_filtered = [(u,v) for (u, v, e) in G.edges(data=True) if e['weight'] > threshold]\n",
    "weights_filtered = [e['weight'] for (u, v, e) in G.edges(data=True) if e['weight'] > threshold]\n",
    "\n",
    "# Choose the layout\n",
    "#pos = nx.spring_layout(G, scale = 0.85, k = 0.8)\n",
    "#pos = nx.spring_layout(G, scale = 0.65, k = 0.9)\n",
    "pos = nx.spring_layout(G, scale = 0.5, k = 0.9)\n",
    "#pos = nx.circular_layout(G)\n",
    "\n",
    "node_colors = dataset_predictability.set_index('features')\n",
    "node_colors['groups'] = node_colors.index\n",
    "# Reindex your nodes to match the graph's nodes\n",
    "node_colors_reind = node_colors.reindex(G.nodes())\n",
    "node_colors_reind['groups'] = node_colors_reind.index\n",
    "node_colors_reind['groups'] = pd.Categorical(node_colors_reind['groups'])\n",
    "node_colors_reind['group'] = node_colors_reind['group'].fillna(0)\n",
    "node_colors_percent = (node_colors_reind['group']/((len(omics)-1)*50))\n",
    "\n",
    "popular_predictors = dataset_predictors.set_index('features')\n",
    "# Reindex your nodes to match the graph's nodes\n",
    "popular_predictors_reind = popular_predictors.reindex(G.nodes())\n",
    "#node_colors_reind['group'] = pd.Categorical(node_colors_reind['group'])\n",
    "popular_predictors_percent = (popular_predictors_reind/((len(omics)-1)*50))*100\n",
    "\n",
    "individual_totals[dataset] = popular_predictors_percent\n",
    "\n",
    "# Make a list of the labels you want to show on the graph\n",
    "labels = {}    \n",
    "for node in G.nodes():\n",
    "    #set the node name as the key and the label as its value \n",
    "    labels[node] = node\n",
    "    \n",
    "\n",
    "Colour_map = dict(zip(node_colors_reind.index, node_colors_reind['groups'].cat.codes))\n",
    "values = [Colour_map.get(node) for node in G.nodes()]\n",
    "maxval = np.max(values) \n",
    "\n",
    "node_colors_percent = node_colors_percent.fillna(0)\n",
    "\n",
    "node_map = plt.get_cmap('Paired')\n",
    "\n",
    "nx.draw_networkx_nodes(G, with_labels=False, pos = pos, \n",
    "                         #node_color = node_colors_reind['groups'].cat.codes, #'pink',\n",
    "                          node_color = [node_map(v/maxval) for v in set(values)],\n",
    "                          node_size = node_colors_percent*1500+100) \n",
    "\n",
    "#nx.draw_networkx_labels(G, pos, labels, font_color = 'black', font_weight = 'bold', font_size = 9)\n",
    "\n",
    "nx.draw_networkx_edges(G, pos, edgelist = edges_filtered, \n",
    "                               edge_color = weights_filtered, \n",
    "                               edge_cmap = helper_functions.truncate_colormap(cmap_greys, 0.3, 1), \n",
    "                               width = 2.7, arrowsize=15,\n",
    "                               arrows=True, connectionstyle='arc3, rad = 0.1')\n",
    "\n",
    "for v in set(values):\n",
    "    plt.scatter([],[], c=[node_map(v/maxval)], label=list(G.nodes())[v])\n",
    "\n",
    "plt.legend(fontsize=8, markerscale=1.5)\n",
    "plt.title(dataset+' cancer', fontsize = 15)\n",
    "#plt.title(dataset, fontsize = 15)\n",
    "#plt.title('normal pregnancy', fontsize = 15)\n",
    "#plt.title('head/neck cancer', fontsize = 15)\n",
    "#plt.title('kidney renal cancer', fontsize = 15)\n",
    "#plt.title('lung squamous cancer', fontsize = 15)\n",
    "#plt.title('pan-kidney cancer', fontsize = 15)\n",
    "#plt.title('preeclampsia', fontsize = 15)\n",
    "#plt.title('stomach/esophageal cancer', fontsize = 15)\n",
    "#plt.title('preeclampsia', fontsize = 15)\n",
    "\n",
    "#Finally, redraw the labels at their new position.\n",
    "figure = plt.gcf() # get current figure\n",
    "figure.set_size_inches(4, 4)\n",
    "#plt.savefig('/home/mxenoc/workspace/multiomics-benchmark/plots/'+dataset+'.pdf', dpi = 500)"
   ]
  },
  {
   "cell_type": "markdown",
   "metadata": {},
   "source": [
    "# Individual plots"
   ]
  },
  {
   "cell_type": "code",
   "execution_count": 37,
   "metadata": {},
   "outputs": [],
   "source": [
    "pivot_df_L = pivot_df['Lasso']"
   ]
  },
  {
   "cell_type": "code",
   "execution_count": 38,
   "metadata": {},
   "outputs": [],
   "source": [
    "with open('/home/mxenoc/workspace/multiomics-benchmark/results/individual_totals.pkl', 'rb') as f:\n",
    "    individual_totals = pickle.load(f)"
   ]
  },
  {
   "cell_type": "code",
   "execution_count": 39,
   "metadata": {},
   "outputs": [],
   "source": [
    "individual_totals['omics'].loc['RNA'] = [0]\n",
    "\n",
    "individual_totals['PreE'].loc['microbiome'] = [0]\n",
    "individual_totals['PreE'].loc['lipidome'] = [0]"
   ]
  },
  {
   "cell_type": "code",
   "execution_count": 40,
   "metadata": {},
   "outputs": [],
   "source": [
    "for i in individual_totals:\n",
    "    row = ['multimodal', pivot_df_L[pivot_df_L.index == i][0]]\n",
    "    individual_totals[i].loc[row[0]] = row[1]"
   ]
  },
  {
   "cell_type": "code",
   "execution_count": 41,
   "metadata": {},
   "outputs": [
    {
     "data": {
      "text/plain": [
       "Text(0.5, 1.0, 'normal pregnancy')"
      ]
     },
     "execution_count": 41,
     "metadata": {},
     "output_type": "execute_result"
    },
    {
     "data": {
      "image/png": "[encoded data removed]",
      "text/plain": [
       "<Figure size 180x180 with 1 Axes>"
      ]
     },
     "metadata": {
      "needs_background": "light"
     },
     "output_type": "display_data"
    }
   ],
   "source": [
    "dataset = 'omics'\n",
    "\n",
    "fig = plt.figure(figsize = (2.5, 2.5)) \n",
    "  \n",
    "# creating the bar plot \n",
    "plt.bar(list(individual_totals[dataset].index), individual_totals[dataset]['group'].tolist(), color ='maroon', width = 0.4) \n",
    "  \n",
    "plt.xlabel(\"Predictor dataset\", fontsize = 12) \n",
    "plt.ylabel(\"% total features predicted\", fontsize = 12) \n",
    "plt.title(dataset) \n",
    "plt.xticks(rotation=90)\n",
    "\n",
    "#plt.legend(fontsize=8, markerscale=1.5)\n",
    "\n",
    "#plt.title(dataset+' cancer', fontsize = 13)\n",
    "#plt.title(dataset, fontsize = 13)\n",
    "plt.title('normal pregnancy', fontsize = 13)\n",
    "#plt.title('head/neck cancer', fontsize = 13)\n",
    "#plt.title('kidney renal cancer', fontsize = 13)\n",
    "#plt.title('lung squamous cancer', fontsize = 13)\n",
    "#plt.title('pan-kidney cancer', fontsize = 13)\n",
    "#plt.title('preeclampsia', fontsize = 13)\n",
    "#plt.title('stomach/esoph. cancer', fontsize = 13)\n",
    "\n",
    "#plt.savefig('/home/mxenoc/workspace/benchmark/plots/'+'bars_'+dataset+'.png', dpi=500, bbox_inches='tight')"
   ]
  },
  {
   "cell_type": "markdown",
   "metadata": {},
   "source": [
    "# Boxplot with all datasets"
   ]
  },
  {
   "cell_type": "code",
   "execution_count": 19,
   "metadata": {},
   "outputs": [],
   "source": [
    "pivot_df_ind['dataset'] = pivot_df_ind.index"
   ]
  },
  {
   "cell_type": "code",
   "execution_count": 20,
   "metadata": {},
   "outputs": [],
   "source": [
    "box_df = pd.melt(pivot_df_ind, id_vars=['dataset'])"
   ]
  },
  {
   "cell_type": "code",
   "execution_count": 21,
   "metadata": {},
   "outputs": [
    {
     "data": {
      "text/plain": [
       "(array([0, 1, 2, 3, 4, 5, 6, 7]), <a list of 8 Text xticklabel objects>)"
      ]
     },
     "execution_count": 21,
     "metadata": {},
     "output_type": "execute_result"
    },
    {
     "data": {
      "image/png": "[encoded data removed]",
      "text/plain": [
       "<Figure size 432x288 with 1 Axes>"
      ]
     },
     "metadata": {
      "needs_background": "light"
     },
     "output_type": "display_data"
    }
   ],
   "source": [
    "sns.boxplot(x=\"models\", y=\"value\", data=box_df)\n",
    "plt.xticks(rotation=90)"
   ]
  },
  {
   "cell_type": "markdown",
   "metadata": {},
   "source": [
    "# Compare stacked lasso with normal lasso"
   ]
  },
  {
   "cell_type": "code",
   "execution_count": 22,
   "metadata": {},
   "outputs": [],
   "source": [
    "df_scatter = pivot_df[['Lasso', 'opt_Lasso_True']]"
   ]
  },
  {
   "cell_type": "code",
   "execution_count": 26,
   "metadata": {},
   "outputs": [
    {
     "data": {
      "text/plain": [
       "[<matplotlib.lines.Line2D at 0x7fbb310e0710>]"
      ]
     },
     "execution_count": 26,
     "metadata": {},
     "output_type": "execute_result"
    },
    {
     "data": {
      "image/png": "[encoded data removed]",
      "text/plain": [
       "<Figure size 360x360 with 1 Axes>"
      ]
     },
     "metadata": {
      "needs_background": "light"
     },
     "output_type": "display_data"
    }
   ],
   "source": [
    "fig=plt.figure(figsize=(5, 5))\n",
    "\n",
    "p1=sns.regplot(data=df_scatter, x=\"opt_Lasso_True\", y=\"Lasso\", fit_reg=False, marker=\"+\", color=\"crimson\", scatter_kws={'s':400})\n",
    "p1.yaxis.set_major_formatter(mtick.PercentFormatter())\n",
    "p1.xaxis.set_major_formatter(mtick.PercentFormatter())\n",
    "\n",
    "plt.title('Percentage of features predicted (r>0.50)', fontsize = 12)\n",
    "plt.xlabel('Stacked lasso - nnls', fontsize = 13)\n",
    "plt.ylabel('Lasso', fontsize = 13)\n",
    "\n",
    "# add annotations one by one with a loop\n",
    "#for line in range(0,df_scatter.shape[0]):\n",
    "#     p1.text(df_scatter.stacked_nnls[line]+0.2, df_scatter.Lasso[line], df_scatter.index[line], \n",
    "#             horizontalalignment='left', size='medium', color='black', weight='semibold')\n",
    "        \n",
    "p1.plot([0, 60], [0, 60], c='skyblue')  \n",
    "#os.chdir('/home/mxenoc/workspace/benchmark/plots')\n",
    "#plt.savefig('lasso_vs_stacked_'+r_limit_name+'.png', dpi=500, bbox_inches='tight')"
   ]
  },
  {
   "cell_type": "code",
   "execution_count": null,
   "metadata": {},
   "outputs": [],
   "source": []
  },
  {
   "cell_type": "code",
   "execution_count": null,
   "metadata": {},
   "outputs": [],
   "source": []
  }
 ],
 "metadata": {
  "kernelspec": {
   "display_name": "Python 3",
   "language": "python",
   "name": "python3"
  },
  "language_info": {
   "codemirror_mode": {
    "name": "ipython",
    "version": 3
   },
   "file_extension": ".py",
   "mimetype": "text/x-python",
   "name": "python",
   "nbconvert_exporter": "python",
   "pygments_lexer": "ipython3",
   "version": "3.7.4"
  }
 },
 "nbformat": 4,
 "nbformat_minor": 4
}
